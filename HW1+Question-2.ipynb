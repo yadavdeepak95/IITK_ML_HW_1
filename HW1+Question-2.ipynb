{
 "cells": [
  {
   "cell_type": "markdown",
   "metadata": {},
   "source": [
    "# Loading Data"
   ]
  },
  {
   "cell_type": "code",
   "execution_count": 1,
   "metadata": {
    "collapsed": true
   },
   "outputs": [],
   "source": [
    "import numpy as np\n",
    "import matplotlib.pyplot as plt\n",
    "from numpy.linalg import inv\n",
    "\n",
    "X_seen=np.load('X_seen.npy', encoding = 'latin1') #\t(40 x N_i x D): 40 feature matrices. X_seen[i] is the N_i x D feature matrix of seen class i\n",
    "\n",
    "Xtest=np.load('Xtest.npy', encoding = 'latin1')#\t(6180, 4096): feature matrix of the test data.\n",
    "\n",
    "Ytest=np.load('Ytest.npy',encoding = 'latin1')#\t(6180, 1): ground truth labels of the test data\n",
    "\n",
    "class_attributes_seen=np.load('class_attributes_seen.npy', encoding = 'latin1')#\t(40, 85): 40x85 matrix with each row being the 85-dimensional class attribute vector of a seen class.\n",
    "\n",
    "class_attributes_unseen=np.load('class_attributes_unseen.npy', encoding = 'latin1')#\t(10, 85): 10x85 matrix with each row being the 85-dimensional class attribute vector of an  unseen class.\n",
    "\n"
   ]
  },
  {
   "cell_type": "markdown",
   "metadata": {},
   "source": [
    "# Calculating mean of the seen data and storing it in seen_mean variable."
   ]
  },
  {
   "cell_type": "code",
   "execution_count": 2,
   "metadata": {
    "collapsed": true,
    "scrolled": true
   },
   "outputs": [],
   "source": [
    "seen_mean = np.zeros((X_seen.shape[0],X_seen[0][1].shape[0]))\n",
    "for i in range(X_seen.shape[0]):\n",
    "    seen_mean[i] = (np.sum(X_seen[i], axis=0)/X_seen[i].shape[0])"
   ]
  },
  {
   "cell_type": "markdown",
   "metadata": {},
   "source": [
    "# Linear regression model learning"
   ]
  },
  {
   "cell_type": "code",
   "execution_count": 3,
   "metadata": {
    "collapsed": true
   },
   "outputs": [],
   "source": [
    "def modeling(seen_mean, lamda, class_attribute_seen):\n",
    "    I= np.identity(class_attribute_seen.shape[1])\n",
    "    X = inv(np.dot(np.transpose(class_attributes_seen),class_attributes_seen)+ lamda * I)\n",
    "    W = np.dot(np.dot(X,np.transpose(class_attributes_seen)),seen_mean)\n",
    "    return (W)"
   ]
  },
  {
   "cell_type": "markdown",
   "metadata": {},
   "source": [
    "# Calculate mean of unseen class"
   ]
  },
  {
   "cell_type": "code",
   "execution_count": 4,
   "metadata": {
    "collapsed": true
   },
   "outputs": [],
   "source": [
    "def calculate_mean_unseen(class_attributes_unseen,W):\n",
    "    mean_unseen = np.dot(class_attributes_unseen, W)\n",
    "    return (mean_unseen)"
   ]
  },
  {
   "cell_type": "markdown",
   "metadata": {},
   "source": [
    "# Making Prediction at provided lamda and returns accuracy in Percent(%)"
   ]
  },
  {
   "cell_type": "code",
   "execution_count": 5,
   "metadata": {
    "collapsed": true
   },
   "outputs": [],
   "source": [
    "def prediction(Xtest,Ytest,mean_unseen):\n",
    "    test = np.zeros(mean_unseen.shape[0])\n",
    "    sahi = 0 \n",
    "    for i in range(Xtest.shape[0]):\n",
    "        for j in range(mean_unseen.shape[0]):\n",
    "            test[j] = np.dot((mean_unseen[j]-Xtest[i]),(mean_unseen[j]-Xtest[i]))\n",
    "        if(Ytest[i]-np.argmin(test)-1 == 0 ):\n",
    "            sahi = sahi +1\n",
    "    return(sahi*100/Ytest.shape[0])"
   ]
  },
  {
   "cell_type": "markdown",
   "metadata": {},
   "source": [
    "# Main function  "
   ]
  },
  {
   "cell_type": "code",
   "execution_count": 6,
   "metadata": {},
   "outputs": [
    {
     "data": {
      "image/png": "[encoded data removed]",
      "text/plain": [
       "<matplotlib.figure.Figure at 0x7f6ec5843748>"
      ]
     },
     "metadata": {},
     "output_type": "display_data"
    },
    {
     "name": "stdout",
     "output_type": "stream",
     "text": [
      "Best Accuracy:  73.284789644 at Lambda 10.0\n"
     ]
    }
   ],
   "source": [
    "def main():\n",
    "    lamda = np.array([.01,0.1,1,10,20,50,100])\n",
    "    result = []\n",
    "    for i in range(lamda.shape[0]):\n",
    "        W = modeling(seen_mean , lamda[i] ,class_attributes_seen) #modeling(seen_mean, lamda, class_attribute_seen)\n",
    "        mean = calculate_mean_unseen(class_attributes_unseen , W) #calculate_mean_unseen(class_attributes_unseen,W)\n",
    "        result.append((lamda[i], prediction(Xtest,Ytest,mean)))\n",
    "    result = np.array(result)\n",
    "    plt.title(\"Load Testing Results\")\n",
    "    plt.ylabel(\"Accuracy\")\n",
    "    plt.xlabel(\"Values of Lambda\")\n",
    "    plt.plot(result[:,[0]],result[:,[1]])\n",
    "    plt.show()\n",
    "    print(\"Best Accuracy: \", result[(np.argmax(result[:,[1]]))][1],\"at Lambda\" , lamda[np.argmax(result[:,[1]])])\n",
    "main()"
   ]
  },
  {
   "cell_type": "code",
   "execution_count": null,
   "metadata": {
    "collapsed": true
   },
   "outputs": [],
   "source": []
  }
 ],
 "metadata": {
  "celltoolbar": "Raw Cell Format",
  "kernelspec": {
   "display_name": "Python 3",
   "language": "python",
   "name": "python3"
  },
  "language_info": {
   "codemirror_mode": {
    "name": "ipython",
    "version": 3
   },
   "file_extension": ".py",
   "mimetype": "text/x-python",
   "name": "python",
   "nbconvert_exporter": "python",
   "pygments_lexer": "ipython3",
   "version": "3.6.3"
  }
 },
 "nbformat": 4,
 "nbformat_minor": 2
}
