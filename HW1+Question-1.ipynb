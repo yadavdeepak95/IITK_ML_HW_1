{
 "cells": [
  {
   "cell_type": "markdown",
   "metadata": {},
   "source": [
    "# Loading Data"
   ]
  },
  {
   "cell_type": "code",
   "execution_count": 1,
   "metadata": {
    "collapsed": true
   },
   "outputs": [],
   "source": [
    "import numpy as np\n",
    "import matplotlib.pyplot as plt\n",
    "from numpy.linalg import inv\n",
    "\n",
    "X_seen=np.load('X_seen.npy', encoding = 'latin1') #\t(40 x N_i x D): 40 feature matrices. X_seen[i] is the N_i x D feature matrix of seen class i\n",
    "\n",
    "Xtest=np.load('Xtest.npy', encoding = 'latin1')#\t(6180, 4096): feature matrix of the test data.\n",
    "\n",
    "Ytest=np.load('Ytest.npy',encoding = 'latin1')#\t(6180, 1): ground truth labels of the test data\n",
    "\n",
    "class_attributes_seen=np.load('class_attributes_seen.npy', encoding = 'latin1')#\t(40, 85): 40x85 matrix with each row being the 85-dimensional class attribute vector of a seen class.\n",
    "\n",
    "class_attributes_unseen=np.load('class_attributes_unseen.npy', encoding = 'latin1')#\t(10, 85): 10x85 matrix with each row being the 85-dimensional class attribute vector of an  unseen class.\n",
    "\n"
   ]
  },
  {
   "cell_type": "markdown",
   "metadata": {},
   "source": [
    "# Calculating mean of the seen data and storing it in seen_mean variable."
   ]
  },
  {
   "cell_type": "code",
   "execution_count": 14,
   "metadata": {
    "collapsed": true,
    "scrolled": true
   },
   "outputs": [],
   "source": [
    "seen_mean = np.zeros((X_seen.shape[0],X_seen[0][1].shape[0]))\n",
    "for i in range(X_seen.shape[0]):\n",
    "    seen_mean[i] = (np.sum(X_seen[i], axis=0)/X_seen[i].shape[0])"
   ]
  },
  {
   "cell_type": "markdown",
   "metadata": {},
   "source": [
    "# linear regression model Learning"
   ]
  },
  {
   "cell_type": "code",
   "execution_count": 22,
   "metadata": {},
   "outputs": [],
   "source": [
    "def modeling(seen_mean, class_attributes_seen, class_attributes_unseen):\n",
    "    tr =inv(np.dot(np.transpose(class_attributes_unseen),class_attributes_unseen)+np.identity(class_attributes_unseen.shape[1]))\n",
    "    unseen_mean = np.zeros((class_attributes_unseen.shape[0],seen_mean.shape[1]))\n",
    "    similarity = np.dot(np.dot(class_attributes_unseen,tr),np.transpose(class_attributes_seen))\n",
    "    for i in range(similarity.shape[0]):\n",
    "        similarity[i] = similarity[i]/np.sum(similarity[i])\n",
    "        unseen_mean[i] = np.dot(similarity[i],seen_mean)\n",
    "    return  unseen_mean\n",
    "        "
   ]
  },
  {
   "cell_type": "markdown",
   "metadata": {},
   "source": [
    "# Making Prediction at provided lamda and return % accuracy"
   ]
  },
  {
   "cell_type": "code",
   "execution_count": 23,
   "metadata": {
    "collapsed": true
   },
   "outputs": [],
   "source": [
    "def prediction(Xtest,Ytest,mean_unseen):\n",
    "    test = np.zeros(mean_unseen.shape[0])\n",
    "    sahi = 0 \n",
    "    for i in range(Xtest.shape[0]):\n",
    "        for j in range(mean_unseen.shape[0]):\n",
    "            test[j] = np.dot((mean_unseen[j]-Xtest[i]),(mean_unseen[j]-Xtest[i]))\n",
    "        if(Ytest[i]-np.argmin(test)-1 == 0 ):\n",
    "            sahi = sahi +1\n",
    "    return(sahi*100/Ytest.shape[0])"
   ]
  },
  {
   "cell_type": "markdown",
   "metadata": {},
   "source": [
    "# Main function  "
   ]
  },
  {
   "cell_type": "code",
   "execution_count": 24,
   "metadata": {},
   "outputs": [
    {
     "name": "stdout",
     "output_type": "stream",
     "text": [
      "58.786407766990294\n"
     ]
    }
   ],
   "source": [
    "def main():\n",
    "    mean = modeling(seen_mean, class_attributes_seen, class_attributes_unseen) #modeling(seen_mean, lamda, class_attribute_seen)\n",
    "    result =prediction(Xtest,Ytest,mean)\n",
    "    result = np.array(result)\n",
    "    print(result)\n",
    "main()"
   ]
  },
  {
   "cell_type": "code",
   "execution_count": 18,
   "metadata": {},
   "outputs": [
    {
     "name": "stdout",
     "output_type": "stream",
     "text": [
      "[ 0.06666667  0.13333333  0.2         0.26666667  0.33333333]\n",
      "0.2\n"
     ]
    }
   ],
   "source": [
    "a = np.array((1,2,3,4,5))\n",
    "a =(a/np.sum(a))\n",
    "print (a)\n",
    "mean = np.sum(a)/a.shape[0]\n",
    "print (mean)\n",
    "#  for i in range(a.shape[0]):\n",
    "#      if abs((a[i]-mean)/mean) < .10"
   ]
  },
  {
   "cell_type": "code",
   "execution_count": null,
   "metadata": {
    "collapsed": true
   },
   "outputs": [],
   "source": []
  },
  {
   "cell_type": "code",
   "execution_count": null,
   "metadata": {
    "collapsed": true
   },
   "outputs": [],
   "source": []
  }
 ],
 "metadata": {
  "celltoolbar": "Raw Cell Format",
  "kernelspec": {
   "display_name": "Python 3",
   "language": "python",
   "name": "python3"
  },
  "language_info": {
   "codemirror_mode": {
    "name": "ipython",
    "version": 3
   },
   "file_extension": ".py",
   "mimetype": "text/x-python",
   "name": "python",
   "nbconvert_exporter": "python",
   "pygments_lexer": "ipython3",
   "version": "3.6.3"
  }
 },
 "nbformat": 4,
 "nbformat_minor": 2
}
